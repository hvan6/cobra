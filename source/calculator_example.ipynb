{
 "cells": [
  {
   "cell_type": "markdown",
   "metadata": {},
   "source": [
    "Import Rent vs Buy calculator module"
   ]
  },
  {
   "cell_type": "code",
   "execution_count": null,
   "metadata": {
    "collapsed": true
   },
   "outputs": [],
   "source": [
    "%matplotlib inline\n",
    "import rvb"
   ]
  },
  {
   "cell_type": "markdown",
   "metadata": {},
   "source": [
    "Create an instance of the Renter object and modify some parameters. These parameters are converted to type `numpy.ndarray` in the Renter's `__setattr__` method. They must be broadcastable against each other as well as a one-dimensional temporal variable representing the number of years occupied."
   ]
  },
  {
   "cell_type": "code",
   "execution_count": null,
   "metadata": {
    "collapsed": true
   },
   "outputs": [],
   "source": [
    "renter = rvb.Renter()\n",
    "\n",
    "renter.rent_price = 3000.0\n",
    "renter.appreciation_rate = 0.04\n",
    "renter.investment_return_rate = 0.05"
   ]
  },
  {
   "cell_type": "markdown",
   "metadata": {},
   "source": [
    "Likewise, create an instance of the Buyer object."
   ]
  },
  {
   "cell_type": "code",
   "execution_count": null,
   "metadata": {
    "collapsed": true
   },
   "outputs": [],
   "source": [
    "buyer = rvb.Buyer()\n",
    "\n",
    "buyer.home_price = 1000000.0  # 1M\n",
    "buyer.down_payment = 100000.0  # 100K\n",
    "buyer.mortgage_rate = [[0.03], [0.05]]  # shape (2, 1)\n",
    "buyer.mortgage_term = 10"
   ]
  },
  {
   "cell_type": "markdown",
   "metadata": {},
   "source": [
    "Compute the net value of the renter and buyer over some number of years."
   ]
  },
  {
   "cell_type": "code",
   "execution_count": null,
   "metadata": {},
   "outputs": [],
   "source": [
    "num_years = 20\n",
    "\n",
    "r = rvb.calculate_renter_net_value(renter, buyer, num_years)\n",
    "b = rvb.calculate_buyer_net_value(buyer, num_years)\n",
    "\n",
    "print(r.shape)\n",
    "print(b.shape)"
   ]
  },
  {
   "cell_type": "markdown",
   "metadata": {},
   "source": [
    "Plot the curves"
   ]
  },
  {
   "cell_type": "code",
   "execution_count": null,
   "metadata": {},
   "outputs": [],
   "source": [
    "with rvb.visualize.style():\n",
    "    fig = rvb.plot_rvb_curve(r[0], b[0])\n",
    "    ax = fig.gca()\n",
    "    ax.set_title(\"3% mortgage rate\");"
   ]
  },
  {
   "cell_type": "code",
   "execution_count": null,
   "metadata": {},
   "outputs": [],
   "source": [
    "with rvb.visualize.style():\n",
    "    fig = rvb.plot_rvb_curve(r[1], b[1])\n",
    "    ax = fig.gca()\n",
    "    ax.set_title(\"5% mortgage rate\");"
   ]
  }
 ],
 "metadata": {
  "kernelspec": {
   "display_name": "Python 3",
   "language": "python",
   "name": "python3"
  },
  "language_info": {
   "codemirror_mode": {
    "name": "ipython",
    "version": 3
   },
   "file_extension": ".py",
   "mimetype": "text/x-python",
   "name": "python",
   "nbconvert_exporter": "python",
   "pygments_lexer": "ipython3",
   "version": "3.6.1"
  }
 },
 "nbformat": 4,
 "nbformat_minor": 1
}
