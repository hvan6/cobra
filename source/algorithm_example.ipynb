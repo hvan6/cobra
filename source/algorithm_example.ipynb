{
 "cells": [
  {
   "cell_type": "markdown",
   "metadata": {},
   "source": [
    "Import libraries."
   ]
  },
  {
   "cell_type": "code",
   "execution_count": null,
   "metadata": {
    "collapsed": true
   },
   "outputs": [],
   "source": [
    "%matplotlib inline\n",
    "import matplotlib.pyplot as plt\n",
    "import numpy as np\n",
    "import rvb"
   ]
  },
  {
   "cell_type": "markdown",
   "metadata": {},
   "source": [
    "Define user inputs. These will come from the questionnaire."
   ]
  },
  {
   "cell_type": "code",
   "execution_count": null,
   "metadata": {
    "collapsed": true
   },
   "outputs": [],
   "source": [
    "num_years = 20\n",
    "down_payment = 200000.0\n",
    "initial_monthly_budget = 3200.0\n",
    "annual_raise = 0.03"
   ]
  },
  {
   "cell_type": "markdown",
   "metadata": {},
   "source": [
    "Compute montly budget over time."
   ]
  },
  {
   "cell_type": "code",
   "execution_count": null,
   "metadata": {
    "collapsed": true
   },
   "outputs": [],
   "source": [
    "year = np.arange(1, num_years + 1)\n",
    "monthly_budget = initial_monthly_budget * (1 + annual_raise) ** (year - 1)"
   ]
  },
  {
   "cell_type": "markdown",
   "metadata": {},
   "source": [
    "Get home/rent prices. Here, I randomize for demonstration purposes. The home prices range from \\$550k to \\$650k. The rent prices range from 0.45% to 0.55% of the home price. In practice, of course, we will get these values from the datasets."
   ]
  },
  {
   "cell_type": "code",
   "execution_count": null,
   "metadata": {
    "collapsed": true
   },
   "outputs": [],
   "source": [
    "np.random.seed(0)\n",
    "num_homes = 100\n",
    "home_price = np.random.uniform(550000.0, 650000.0, size=(num_homes, 1))\n",
    "rent_multiplier = np.random.uniform(0.0045, 0.0055, size=home_price.shape)\n",
    "rent_price = home_price * rent_multiplier"
   ]
  },
  {
   "cell_type": "markdown",
   "metadata": {},
   "source": [
    "Create an instance of the Renter object. Set the rent price."
   ]
  },
  {
   "cell_type": "code",
   "execution_count": null,
   "metadata": {
    "collapsed": true
   },
   "outputs": [],
   "source": [
    "renter = rvb.Renter()\n",
    "renter.rent_price = rent_price"
   ]
  },
  {
   "cell_type": "markdown",
   "metadata": {},
   "source": [
    "Create an instance of the Buyer object. Set the home price and down payment."
   ]
  },
  {
   "cell_type": "code",
   "execution_count": null,
   "metadata": {
    "collapsed": true
   },
   "outputs": [],
   "source": [
    "buyer = rvb.Buyer()\n",
    "buyer.home_price = home_price\n",
    "buyer.down_payment = down_payment"
   ]
  },
  {
   "cell_type": "markdown",
   "metadata": {},
   "source": [
    "Calculate net value of the renter and the buyer over time."
   ]
  },
  {
   "cell_type": "code",
   "execution_count": null,
   "metadata": {
    "collapsed": true
   },
   "outputs": [],
   "source": [
    "renter_net_value = rvb.calculate_renter_net_value(renter, buyer, num_years)\n",
    "buyer_net_value = rvb.calculate_buyer_net_value(buyer, num_years)"
   ]
  },
  {
   "cell_type": "markdown",
   "metadata": {},
   "source": [
    "Calculate average monthly costs over time."
   ]
  },
  {
   "cell_type": "code",
   "execution_count": null,
   "metadata": {
    "collapsed": true
   },
   "outputs": [],
   "source": [
    "renter_monthly_costs = renter.calculate_annual_costs(year) / 12\n",
    "buyer_monthly_costs = buyer.calculate_annual_costs(year) / 12"
   ]
  },
  {
   "cell_type": "markdown",
   "metadata": {},
   "source": [
    "Just a couple plotting helper routines."
   ]
  },
  {
   "cell_type": "code",
   "execution_count": null,
   "metadata": {
    "collapsed": true
   },
   "outputs": [],
   "source": [
    "def plot_minmax(ax, x, y, label=None):\n",
    "    line, = ax.plot(x, y.mean(axis=0), label=label)\n",
    "    color = line.get_color()\n",
    "    ax.fill_between(x, y.min(axis=0), y.max(axis=0), alpha=0.3,\n",
    "                    facecolor=color, edgecolor='none')\n",
    "    return ax   \n",
    "\n",
    "def format_price(axis):\n",
    "    axis.set_major_formatter(plt.FuncFormatter(\n",
    "        rvb.visualize.price_formatter))"
   ]
  },
  {
   "cell_type": "markdown",
   "metadata": {},
   "source": [
    "Plot net value over time of renting versus buying. The solid line represents the mean of all homes. The extent of the filled region represents the min and max."
   ]
  },
  {
   "cell_type": "code",
   "execution_count": null,
   "metadata": {},
   "outputs": [],
   "source": [
    "with rvb.visualize.style():\n",
    "    fig = plt.figure(1)\n",
    "    fig.clf()\n",
    "    ax = fig.gca()\n",
    "    plot_minmax(ax, year, renter_net_value, label='Rent')\n",
    "    plot_minmax(ax, year, buyer_net_value, label='Buy')\n",
    "    ymin, ymax = ax.get_ylim()\n",
    "    ymax = ymax + 0.3 * (ymax - ymin)\n",
    "    ax.set_xlim(1, num_years)\n",
    "    ax.set_ylim(ymin, ymax)\n",
    "    ax.legend(loc='upper right', frameon=True, framealpha=1.0,\n",
    "              facecolor='w')\n",
    "    format_price(ax.yaxis)\n",
    "    ax.set_xlabel('Year')\n",
    "    ax.set_ylabel('Net Value');"
   ]
  },
  {
   "cell_type": "markdown",
   "metadata": {},
   "source": [
    "Plot monthly costs over time of renting versus buying. Note that the budget line intersects the min-max monthly costs curves, meaning some of these homes are too expensive to fit in the user's budget."
   ]
  },
  {
   "cell_type": "code",
   "execution_count": null,
   "metadata": {},
   "outputs": [],
   "source": [
    "with rvb.visualize.style():\n",
    "    fig = plt.figure(2)\n",
    "    fig.clf()\n",
    "    ax = fig.gca()\n",
    "    plot_minmax(ax, year, renter_monthly_costs, label='Rent')\n",
    "    plot_minmax(ax, year, buyer_monthly_costs, label='Buy')\n",
    "    ax.plot(year, monthly_budget, color='k', linestyle='--',\n",
    "            label='Budget')\n",
    "    ymin, ymax = ax.get_ylim()\n",
    "    ymax = ymax + 0.3 * (ymax - ymin)\n",
    "    ax.set_xlim(1, num_years)\n",
    "    ax.set_ylim(ymin, ymax)\n",
    "    ax.legend(loc='upper right', frameon=True, framealpha=1.0,\n",
    "              facecolor='w')\n",
    "    format_price(ax.yaxis)\n",
    "    ax.set_xlabel('Year')\n",
    "    ax.set_ylabel('Monthly Costs');"
   ]
  },
  {
   "cell_type": "markdown",
   "metadata": {},
   "source": [
    "Determine for which homes the monthly costs of renting or buying exceed the monthly budget."
   ]
  },
  {
   "cell_type": "code",
   "execution_count": null,
   "metadata": {
    "collapsed": true
   },
   "outputs": [],
   "source": [
    "renter_over_budget = (renter_monthly_costs > monthly_budget).any(axis=1)\n",
    "buyer_over_budget = (buyer_monthly_costs > monthly_budget).any(axis=1)"
   ]
  },
  {
   "cell_type": "markdown",
   "metadata": {},
   "source": [
    "Define the score of renting/buying as the net value in the final year. Where over budget, set score to -$\\infty$ so it is effectively masked out in the comparison."
   ]
  },
  {
   "cell_type": "code",
   "execution_count": null,
   "metadata": {
    "collapsed": true
   },
   "outputs": [],
   "source": [
    "renter_score = np.where(renter_over_budget, -np.inf, \n",
    "                        renter_net_value[:, -1])\n",
    "buyer_score = np.where(buyer_over_budget, -np.inf, buyer_net_value[:, -1])"
   ]
  },
  {
   "cell_type": "markdown",
   "metadata": {},
   "source": [
    "Define the decision criteria.  If the net value of buying is greater or equal to that of renting, we recommend the user BUY. Otherwise, the user should RENT. If the monthly costs of renting and buying both exceed the monthly budget for any year, than we recommend the user neither rent nor buy (EXCLUDE)."
   ]
  },
  {
   "cell_type": "code",
   "execution_count": null,
   "metadata": {
    "collapsed": true
   },
   "outputs": [],
   "source": [
    "recommend_buy = (buyer_score >= renter_score) & ~buyer_over_budget\n",
    "recommend_rent = (buyer_score < renter_score) & ~renter_over_budget\n",
    "exclude = renter_over_budget & buyer_over_budget\n",
    "\n",
    "labels = np.empty(num_homes, dtype=np.int)\n",
    "labels[recommend_buy] = 1\n",
    "labels[recommend_rent] = 2\n",
    "labels[exclude] = 3"
   ]
  },
  {
   "cell_type": "markdown",
   "metadata": {},
   "source": [
    "Here we just visualize the distribution of labels. Note that despite the score of renting being lower for all homes than the score of buying, we recommend the user RENT where the montly costs of buying are too high. Without this constraint, we would always make the recommendation to BUY."
   ]
  },
  {
   "cell_type": "code",
   "execution_count": null,
   "metadata": {},
   "outputs": [],
   "source": [
    "with rvb.visualize.style():\n",
    "    fig = plt.figure(3)\n",
    "    fig.clf()\n",
    "    ax = fig.gca()\n",
    "    for label_int, label_str in zip([2, 1, 3], ['Rent', 'Buy', 'Exclude']):\n",
    "        cond = labels == label_int\n",
    "        ax.scatter(home_price[cond], rent_price[cond], label=label_str)\n",
    "    ymin, ymax = ax.get_ylim()\n",
    "    ymax = ymax + 0.3 * (ymax - ymin)\n",
    "    ax.set_ylim(ymin, ymax)\n",
    "    ax.legend(loc='upper right', frameon=True, framealpha=1.0,\n",
    "              facecolor='w')\n",
    "    format_price(ax.xaxis)\n",
    "    format_price(ax.yaxis)\n",
    "    ax.set_xlabel('Home Price')\n",
    "    ax.set_ylabel('Rent Price');"
   ]
  }
 ],
 "metadata": {
  "kernelspec": {
   "display_name": "Python 3",
   "language": "python",
   "name": "python3"
  },
  "language_info": {
   "codemirror_mode": {
    "name": "ipython",
    "version": 3
   },
   "file_extension": ".py",
   "mimetype": "text/x-python",
   "name": "python",
   "nbconvert_exporter": "python",
   "pygments_lexer": "ipython3",
   "version": "3.6.1"
  }
 },
 "nbformat": 4,
 "nbformat_minor": 2
}
